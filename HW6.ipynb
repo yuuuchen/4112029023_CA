{
  "nbformat": 4,
  "nbformat_minor": 0,
  "metadata": {
    "colab": {
      "provenance": [],
      "authorship_tag": "ABX9TyPlW5l9GtqHYcvd6/cObA31"
    },
    "kernelspec": {
      "name": "python3",
      "display_name": "Python 3"
    },
    "language_info": {
      "name": "python"
    }
  },
  "cells": [
    {
      "cell_type": "code",
      "execution_count": null,
      "metadata": {
        "id": "Tpau93xIxD0X"
      },
      "outputs": [],
      "source": [
        "print(\"hello\")"
      ]
    },
    {
      "cell_type": "code",
      "source": [
        "print(\"world\")"
      ],
      "metadata": {
        "id": "VaQwZjaM2sfE"
      },
      "execution_count": null,
      "outputs": []
    }
  ]
}